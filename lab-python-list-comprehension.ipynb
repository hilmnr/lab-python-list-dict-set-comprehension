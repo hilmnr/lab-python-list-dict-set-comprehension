{
 "cells": [
  {
   "cell_type": "markdown",
   "id": "7dd3cbde-675a-4b81-92c3-f728846dbe06",
   "metadata": {
    "tags": []
   },
   "source": [
    "## Exercise: Managing Customer Orders Optimized with Comprehension"
   ]
  },
  {
   "cell_type": "markdown",
   "id": "36ff516e-6086-4426-ab8c-8335c09ff0e6",
   "metadata": {},
   "source": [
    "In the previous exercise, you developed a program to manage customer orders and inventory. Now, let's take it a step further and incorporate comprehension into your code.\n",
    "\n",
    "Follow the steps below to complete the exercise:\n",
    "\n",
    "1. Review your code from the previous exercise and identify areas where you can apply comprehension to simplify and streamline your code. \n",
    "\n",
    "    - *Hint: Apply it to initialize inventory, updating the inventory and printing the updated inventory.*\n",
    "    \n",
    "    - For example, in initializing the inventory, we could have:\n",
    "    \n",
    "        ```python\n",
    "        def initialize_inventory(products):\n",
    "            inventory = {product: int(input(f\"Enter the quantity of {product}s available: \")) for product in products}\n",
    "            return inventory\n",
    "\n",
    "        ```\n",
    "<br>\n",
    "    \n",
    "    \n",
    "2. Modify the function get_customer_orders so it prompts the user to enter the number of customer orders and gathers the product names using a loop and user input. Use comprehension.\n",
    "\n",
    "3. Add a new function to calculate the total price of the customer order. For each product in customer_orders, prompt the user to enter the price of that product. Use comprehension to calculate the total price. Note: assume that the user can only have 1 unit of each product.\n",
    "\n",
    "4. Modify the update_inventory function to remove the product from the inventory if its quantity becomes zero after fulfilling the customer orders. Use comprehension to filter out the products with a quantity of zero from the inventory.\n",
    "\n",
    "5. Print the total price of the customer order.\n",
    "\n",
    "Your code should produce output similar to the following:\n",
    "\n",
    "```python\n",
    "Enter the quantity of t-shirts available:  5\n",
    "Enter the quantity of mugs available:  4\n",
    "Enter the quantity of hats available:  3\n",
    "Enter the quantity of books available:  2\n",
    "Enter the quantity of keychains available:  1\n",
    "Enter the number of customer orders:  2\n",
    "Enter the name of a product that a customer wants to order:  hat\n",
    "Enter the name of a product that a customer wants to order:  keychain\n",
    "\n",
    "Order Statistics:\n",
    "Total Products Ordered: 2\n",
    "Percentage of Unique Products Ordered: 40.0\n",
    "\n",
    "Updated Inventory:\n",
    "t-shirt: 5\n",
    "mug: 4\n",
    "hat: 2\n",
    "book: 2\n",
    "Enter the price of keychain:  5\n",
    "Enter the price of hat:  10\n",
    "Total Price: 15.0\n",
    "\n",
    "```"
   ]
  },
  {
   "cell_type": "code",
   "execution_count": 30,
   "id": "c1577f10-78c2-45a3-a9d5-0f55f228d466",
   "metadata": {
    "tags": []
   },
   "outputs": [],
   "source": [
    "#Question 1\n",
    "def initialize_inventory(products):\n",
    "    inventory = {product: int(input(f\"Enter the initial quantity of {product}: \")) for product in products}\n",
    "    return inventory"
   ]
  },
  {
   "cell_type": "code",
   "execution_count": 31,
   "id": "cb107651-c5e1-4e97-8cbe-7dca65027633",
   "metadata": {
    "tags": []
   },
   "outputs": [],
   "source": [
    "#Question 2\n",
    "def get_customer_orders():\n",
    "    num_orders = int(input(\"Enter the number of customer orders: \"))\n",
    "    orders = [input(f\"Enter product name for order {i + 1}: \") for i in range(num_orders)]\n",
    "    return orders"
   ]
  },
  {
   "cell_type": "code",
   "execution_count": 32,
   "id": "9b0ccb01-e54c-43d1-ae24-66b4ec00095d",
   "metadata": {
    "tags": []
   },
   "outputs": [],
   "source": [
    "#Question 3\n",
    "def calculate_total_price(customer_orders):\n",
    "    # Use a list comprehension to gather prices for each product\n",
    "    prices = [int(input(f\"Enter the price for {product}: \")) for product in customer_orders]\n",
    "    # Calculate the total price by summing up the prices\n",
    "    total_price = sum(prices)\n",
    "\n",
    "    return total_price"
   ]
  },
  {
   "cell_type": "code",
   "execution_count": 33,
   "id": "1a50f7dd-cbc5-4043-a8b4-0e0d2123b217",
   "metadata": {
    "tags": []
   },
   "outputs": [],
   "source": [
    "#Question 4\n",
    "def update_inventory(customer_orders, inventory):\n",
    "    updated_inventory = {product: quantity - 1 for product, quantity in inventory.items() if quantity > 0 and product in customer_orders}\n",
    "    return updated_inventory"
   ]
  },
  {
   "cell_type": "code",
   "execution_count": 35,
   "id": "4bf1bb26-4ce5-41fa-8608-170eb03c90f8",
   "metadata": {
    "tags": []
   },
   "outputs": [
    {
     "name": "stdin",
     "output_type": "stream",
     "text": [
      "Enter the initial quantity of t-shirt:  3\n",
      "Enter the initial quantity of mug:  5\n",
      "Enter the initial quantity of hat:  10\n",
      "Enter the initial quantity of book:  20\n",
      "Enter the initial quantity of keychain:  56\n",
      "Enter the number of customer orders:  2\n",
      "Enter product name for order 1:  book\n",
      "Enter product name for order 2:  hat\n"
     ]
    },
    {
     "name": "stdout",
     "output_type": "stream",
     "text": [
      "Updated inventory\n",
      "hat: 9\n",
      "book: 19\n"
     ]
    },
    {
     "name": "stdin",
     "output_type": "stream",
     "text": [
      "Enter the price for book:  100\n",
      "Enter the price for hat:  100\n"
     ]
    },
    {
     "name": "stdout",
     "output_type": "stream",
     "text": [
      "Total price of the customer order: $200.00\n"
     ]
    }
   ],
   "source": [
    "products = [\"t-shirt\", \"mug\", \"hat\", \"book\", \"keychain\"]\n",
    "inventory = initialize_inventory(products)\n",
    "customer_orders = get_customer_orders()\n",
    "updated_inventory = update_inventory(customer_orders, inventory)\n",
    "print(\"Updated inventory\")\n",
    "for product, quantity in updated_inventory.items():\n",
    "    print(f\"{product}: {quantity}\")\n",
    "total_price = calculate_total_price(customer_orders)\n",
    "print(f\"Total price of the customer order: ${total_price:.2f}\")"
   ]
  }
 ],
 "metadata": {
  "kernelspec": {
   "display_name": "Python 3 (ipykernel)",
   "language": "python",
   "name": "python3"
  },
  "language_info": {
   "codemirror_mode": {
    "name": "ipython",
    "version": 3
   },
   "file_extension": ".py",
   "mimetype": "text/x-python",
   "name": "python",
   "nbconvert_exporter": "python",
   "pygments_lexer": "ipython3",
   "version": "3.11.4"
  }
 },
 "nbformat": 4,
 "nbformat_minor": 5
}
